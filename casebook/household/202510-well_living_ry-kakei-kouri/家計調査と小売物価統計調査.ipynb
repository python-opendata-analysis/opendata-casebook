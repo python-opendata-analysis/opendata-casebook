{
 "cells": [
  {
   "cell_type": "markdown",
   "id": "f9993cf5-00f6-46db-9f88-baec1318da2f",
   "metadata": {},
   "source": [
    "# 家計調査と小売物価統計調査\n",
    "\n",
    "総務省統計局の消費者物価指数の[説明](https://www.stat.go.jp/data/cpi/index.html)に次のようにあります。\n",
    "\n",
    "> 指数計算に採用している各品目のウエイトは総務省統計局実施の家計調査の結果等に基づいています。 品目の価格は総務省統計局実施の小売物価統計調査によって調査された小売価格を用いています。 結果は各種経済施策や年金の改定などに利用されています。\n",
    "\n",
    "家計調査と小売物価統計調査を見てみましょう。\n",
    "\n",
    "準備として、ライブラリをインポートします。"
   ]
  },
  {
   "cell_type": "code",
   "execution_count": null,
   "id": "bf475104-48f1-4e0a-a706-41910939b3db",
   "metadata": {},
   "outputs": [],
   "source": [
    "# 環境変数とパス設定に用いるライブラリ\n",
    "import os\n",
    "from dotenv import load_dotenv\n",
    "from pathlib import Path\n",
    "# データ取得に用いるライブラリ\n",
    "import requests\n",
    "# データ処理に用いるライブラリ\n",
    "import datetime\n",
    "import pandas as pd\n",
    "# 可視化に用いるライブラリ\n",
    "import plotly\n",
    "import plotly.graph_objs as go\n",
    "import plotly.express as px\n",
    "from plotly.subplots import make_subplots"
   ]
  },
  {
   "cell_type": "code",
   "execution_count": null,
   "id": "52028d4d-1814-4a2d-8d65-268ac90fdc62",
   "metadata": {},
   "outputs": [],
   "source": [
    "#!uv pip install kaleido==0.2.1"
   ]
  },
  {
   "cell_type": "markdown",
   "id": "3965ac9b-b92e-4aa1-a481-fd2e56f529e8",
   "metadata": {},
   "source": [
    "『[Pythonではじめるオープンデータ分析](https://www.kodansha.co.jp/book/products/0000419304)』の関数をインポートします。"
   ]
  },
  {
   "cell_type": "code",
   "execution_count": null,
   "id": "8e506afd-5af6-4f35-8ed9-633a1176fcdd",
   "metadata": {},
   "outputs": [],
   "source": [
    "os.getcwd(), os.path.abspath(os.path.join(os.getcwd(), \"../../..\"))"
   ]
  },
  {
   "cell_type": "code",
   "execution_count": null,
   "id": "d90bd37b-9ea1-4315-9c14-422a90128f7b",
   "metadata": {},
   "outputs": [],
   "source": [
    "import sys\n",
    "sys.path.append(os.path.abspath(os.path.join(os.getcwd(), \"../../..\")))"
   ]
  },
  {
   "cell_type": "code",
   "execution_count": null,
   "id": "3cc7880b-8a74-4a1e-983b-0cba81a5568a",
   "metadata": {},
   "outputs": [],
   "source": [
    "from estat import (\n",
    "    get_metainfo,\n",
    "    get_statsdata,\n",
    "    cleansing_statsdata,\n",
    "    colname_to_japanese,\n",
    "    create_hierarchy_dataframe\n",
    ")"
   ]
  },
  {
   "cell_type": "markdown",
   "id": "8298fac2-6b08-4eb4-85fe-b24df0a7584f",
   "metadata": {},
   "source": [
    "API キーなどの環境変数を設定します。"
   ]
  },
  {
   "cell_type": "code",
   "execution_count": null,
   "id": "ec4f25f2-90dc-49d0-87ff-adc4f5738038",
   "metadata": {},
   "outputs": [],
   "source": [
    "load_dotenv()\n",
    "appId = os.getenv(\"ESTAT_APP_ID\")"
   ]
  },
  {
   "cell_type": "markdown",
   "id": "75cb125a-1177-4d4a-9eb1-3049e08e860f",
   "metadata": {},
   "source": [
    "## [家計調査](https://www.stat.go.jp/data/kakei/index.htm)\n",
    "\n",
    "「[家計調査 家計収支編 二人以上の世帯 月次 用途分類（世帯主の年齢階級別）](https://www.e-stat.go.jp/stat-search/database?page=1&layout=datalist&toukei=00200561&tstat=000000330001&cycle=1&tclass1=000000330001&tclass2=000000330004&statdisp_id=0002070010&tclass3val=0)」を用いて、家計収支の前年同月比を可視化します。\n",
    "\n",
    "可視化の際は、家計調査の「[結果の引用・転載について](https://www.stat.go.jp/data/kakei/inyou.html)」の規約に従います。\n",
    "\n",
    "e-Stat API は1 回のリクエストでの取得件数の合計が10 万件に制限されています。\n",
    "まずメタ情報を取得し、データの件数を確認します。"
   ]
  },
  {
   "cell_type": "code",
   "execution_count": null,
   "id": "a3ce0612-2828-4235-8ef1-d1ef180148d7",
   "metadata": {},
   "outputs": [],
   "source": [
    "monthly_statsDataId = \"0002070010\"\n",
    "monthly_meta = get_metainfo(appId, monthly_statsDataId)\n",
    "monthly_metadata = monthly_meta[\"GET_META_INFO\"][\"METADATA_INF\"]\n",
    "monthly_total_num = monthly_metadata[\"TABLE_INF\"][\"OVERALL_TOTAL_NUMBER\"]\n",
    "monthly_total_num"
   ]
  },
  {
   "cell_type": "markdown",
   "id": "0a173061-d057-4733-9460-831ee65772d0",
   "metadata": {},
   "source": [
    "メタデータから階層のデータフレームを作成します。用途分類の名称とコードの対応を確認します。"
   ]
  },
  {
   "cell_type": "code",
   "execution_count": null,
   "id": "a682c127-4d87-405c-91a1-4a63b1aafa2a",
   "metadata": {},
   "outputs": [],
   "source": [
    "household_levels = create_hierarchy_dataframe(monthly_meta, cat_key=1)\n",
    "food_levels = household_levels[household_levels[\"用途分類階層4\"]==\"060_食料\"]\n",
    "food_levels.head()"
   ]
  },
  {
   "cell_type": "markdown",
   "id": "b4deee92-cdc3-4137-b8af-ed4e670a2187",
   "metadata": {},
   "source": [
    "統計データを取得します。"
   ]
  },
  {
   "cell_type": "code",
   "execution_count": null,
   "id": "70c830ea-310e-4e85-94ff-a3ee943cd8e9",
   "metadata": {},
   "outputs": [],
   "source": [
    "monthly_params = {\n",
    "    \"lvCat01\": \"4\",  # \"用途分類\"のlevelを\"4\"に絞る\n",
    "    \"cdCat02\": \"04\",  # \"世帯区分\"を\"二人以上の世帯のうち勤労者世帯（2000年～）\"に絞る\n",
    "    \"cdCat03\": \"A00\",  # \"世帯主の年齢階級\"を\"平均\"に絞る\n",
    "    \"cdTimeFrom\": \"2018000101\",  # \"時間軸（月次）\"を2018年以降に絞る\n",
    "}\n",
    "monthly_data = get_statsdata(appId, monthly_statsDataId, params=monthly_params)\n",
    "monthly_value = colname_to_japanese(cleansing_statsdata(monthly_data))\n",
    "monthly_df = monthly_value.assign(**{\n",
    "    \"年\": monthly_value[\"時間軸（月次）コード\"].astype(int) // 1_000_000,\n",
    "    \"月\": monthly_value[\"時間軸（月次）コード\"].str[-2:].astype(int)\n",
    "})[[\"年\", \"月\", \"用途分類\", \"値\"]]"
   ]
  },
  {
   "cell_type": "markdown",
   "id": "a3e89305-1424-41ff-9b61-69d4a249b481",
   "metadata": {},
   "source": [
    "前年同月比の折れ線グラフをPlotly で可視化します。"
   ]
  },
  {
   "cell_type": "code",
   "execution_count": null,
   "id": "1eb8293a-e55f-429c-b7c4-b04dea43cc07",
   "metadata": {},
   "outputs": [],
   "source": [
    "# 2019年から2024年まで6年分の年範囲を作成\n",
    "year = 2024\n",
    "year_range = range(year - 5, year + 1)\n",
    "# 使用する色をPlotlyの定義済みカラーパレットから選択\n",
    "yoy_colors = px.colors.qualitative.Plotly[: len(year_range)]\n",
    "# X軸の目盛りテキスト用に\"1月\"から\"12月\"までの文字列を用意\n",
    "months = [f\"{mm}月\" for mm in range(1, 13)]\n",
    "# 使用する用途分類のリストを用意\n",
    "yoy_cats = [\"食料\", \"光熱・水道\", \"教養娯楽\", \"勤め先収入\"]\n",
    "# 2*2 のサブプロット用の行・列のペア\n",
    "row_col_pair = [(i, j) for i in range(1, 3) for j in range(1, 3)]\n",
    "# 2*2のサブプロットを作成\n",
    "yoy_fig = make_subplots(rows=2, cols=2, subplot_titles=yoy_cats)\n",
    "# 各年度ごとに各用途分類のトレースを追加\n",
    "for cat, (row, col) in zip(yoy_cats, row_col_pair):\n",
    "    for n, yyyy in enumerate(year_range):\n",
    "        # 指定した用途分類と年に対する条件を作成\n",
    "        yoy_cond = monthly_df[\"用途分類\"] == cat\n",
    "        yoy_cond &= monthly_df[\"年\"] == yyyy\n",
    "        # 最初の用途分類のトレースのみに凡例を表示\n",
    "        show_legend = True if (row == 1 and col == 1) else False\n",
    "        # 折れ線グラフのトレースをサブプロットに追加\n",
    "        yoy_fig.add_trace(\n",
    "            go.Scatter(\n",
    "                x=list(range(1, 13)),\n",
    "                y=monthly_df.loc[yoy_cond, \"値\"],\n",
    "                name=f\"{yyyy}年\",\n",
    "                marker={\"color\": yoy_colors[n]},\n",
    "                showlegend=show_legend,  # 最初のトレースのみ凡例を表示\n",
    "            ),\n",
    "            row=row, col=col,\n",
    "        )\n",
    "        # X軸とY軸の設定を更新\n",
    "        yoy_fig.update_xaxes(\n",
    "            tickvals=list(range(1, 13)),  # X軸の目盛り値。1月から12月までの数値\n",
    "            ticktext=months,  # X軸の目盛りテキスト。\"1月\"から\"12月\"までの文字列\n",
    "            row=row, col=col,\n",
    "        )\n",
    "        yoy_fig.update_yaxes(\n",
    "            tickformat=\",.0f\",\n",
    "            ticksuffix=\"円\",\n",
    "            row=row, col=col,\n",
    "        )\n",
    "yoy_fig.update_layout(width=1000, height=800,\n",
    "    legend={\n",
    "        \"orientation\": \"h\",  # \"h\" は水平(horizontal)を意味し、凡例の項目が水平方向に並ぶ\n",
    "        \"x\": 0.5,  # 0.5 はグラフの水平方向の中央\n",
    "        \"y\": -0.1,  # -0.1 は、グラフ領域外の下部(グラフの下端からさらに10%下)に凡例を配置\n",
    "        \"xanchor\": \"center\",  # 凡例の中央がxで指定された位置に配置\n",
    "        \"yanchor\": \"top\",  # 凡例の上端がyで指定された位置に配置\n",
    "    },\n",
    ")\n",
    "yoy_fig.show()"
   ]
  },
  {
   "cell_type": "markdown",
   "id": "3df7ca25-7eb4-4e47-b511-5934b33b40ff",
   "metadata": {},
   "source": [
    "必要に応じて、figureを画像やHTMLで保存します。"
   ]
  },
  {
   "cell_type": "code",
   "execution_count": null,
   "id": "ffd22fc8-fb39-4ae4-997d-9018f1672fb4",
   "metadata": {},
   "outputs": [],
   "source": [
    "#yoy_fig.write_image(\"yoy_fig.png\", width=1000, height=800)"
   ]
  },
  {
   "cell_type": "code",
   "execution_count": null,
   "id": "6aedb88d-fbb7-4fc7-9806-4e6b9c67a187",
   "metadata": {},
   "outputs": [],
   "source": [
    "#yoy_fig.write_html(\"yoy_fig.html\")"
   ]
  },
  {
   "cell_type": "markdown",
   "id": "50d26de6-ea0f-4117-b247-5bd214372bf5",
   "metadata": {},
   "source": [
    "個別の前年同月比グラフを簡単に可視化するために関数を作成します。"
   ]
  },
  {
   "cell_type": "code",
   "execution_count": null,
   "id": "0555330f-0ae6-4f30-911e-fb0a5d5475a4",
   "metadata": {},
   "outputs": [],
   "source": [
    "def get_kakei_statsdata(\n",
    "        app_id: str, stats_id: str, cat01: str, year_from: int = 2018\n",
    "    ) -> pd.DataFrame:\n",
    "    params = {\n",
    "        \"cdCat01\": cat01,\n",
    "        \"cdCat02\": \"04\",  # \"世帯区分\"を\"二人以上の世帯のうち勤労者世帯（2000年～）\"に絞る\n",
    "        \"cdCat03\": \"A00\",  # \"世帯主の年齢階級\"を\"平均\"に絞る\n",
    "        \"cdTimeFrom\": f\"{year_from}000000\",\n",
    "    }\n",
    "    data = get_statsdata(app_id, stats_id, params=params)\n",
    "    value = colname_to_japanese(cleansing_statsdata(data))\n",
    "    df = value.assign(**{\n",
    "        \"年\": value[\"時間軸（月次）コード\"].astype(int) // 1_000_000,\n",
    "        \"月\": value[\"時間軸（月次）コード\"].str[-2:].astype(int),\n",
    "        \"年月\": lambda x: pd.to_datetime(x[\"年\"].astype(str) + \"-\" + x[\"月\"].astype(str) + \"-01\")\n",
    "    })[['年', '月', '年月', \"値\"]].sort_values(\"年月\")\n",
    "    return df"
   ]
  },
  {
   "cell_type": "code",
   "execution_count": null,
   "id": "161183fb-ff38-4c75-a6b6-0194ad73b219",
   "metadata": {},
   "outputs": [],
   "source": [
    "def create_syoy_fig(\n",
    "        df: pd.DataFrame, \n",
    "        source_name: str = \"\",\n",
    "        source_org: str = \"\",\n",
    "        source_url: str = \"\",\n",
    "        title=None,\n",
    "        width: int = 800, \n",
    "        height: int = 400, \n",
    "        font_size: int = 18,\n",
    "    ):\n",
    "    # X軸の目盛りテキスト用に\"1月\"から\"12月\"までの文字列を用意\n",
    "    months = [f\"{mm}月\" for mm in range(1, 13)]\n",
    "    yoy_fig = px.line(df, x=\"月\", y=\"値\", color=\"年\", markers=True)\n",
    "    yoy_fig.update_layout(width=width, height=height, font={\"size\": font_size},\n",
    "        title={\"text\": title, \"x\": 0.5, \"xanchor\": \"center\", \"font\": {\"size\": font_size}},\n",
    "        xaxis={\"title\": None},\n",
    "        yaxis={\n",
    "            \"tickformat\": \",.0f\", \n",
    "            \"ticksuffix\": \"円\", \n",
    "            \"title\": None,\n",
    "            # \"rangemode\": \"tozero\"\n",
    "        },\n",
    "            margin={\"b\": 80}  # 下部マージンを広げて注釈のスペースを確保\n",
    "        )\n",
    "    yoy_fig.update_xaxes(\n",
    "        tickvals=list(range(1, 13)),  # X軸の目盛り値。1月から12月までの数値\n",
    "        ticktext=months,  # X軸の目盛りテキスト。\"1月\"から\"12月\"までの文字列\n",
    "    )\n",
    "    # 出典情報を追加\n",
    "    today = datetime.date.today()\n",
    "    date_str = f\"{today.year}年{today.month}月{today.day}日\"\n",
    "    citation = f\"＊「{source_name}」（{source_org}）（{source_url}）（{date_str}に利用）\"\n",
    "    yoy_fig.add_annotation(\n",
    "        text=citation,\n",
    "        xref=\"paper\",\n",
    "        yref=\"paper\",\n",
    "        x=1,  # 右端\n",
    "        y=-0.15,  # グラフの下（外側）\n",
    "        xanchor=\"right\",\n",
    "        yanchor=\"top\",\n",
    "        showarrow=False,\n",
    "        font={\"size\": 10, \"color\": \"gray\"}\n",
    "    )\n",
    "    return yoy_fig"
   ]
  },
  {
   "cell_type": "markdown",
   "id": "8292b0d1-fe03-4291-9f64-06f3fc31d060",
   "metadata": {},
   "source": [
    "勤め先収入を可視化します。"
   ]
  },
  {
   "cell_type": "code",
   "execution_count": null,
   "id": "55f5c7c2-0d70-4ab9-98f5-e1fefda598ac",
   "metadata": {},
   "outputs": [],
   "source": [
    "salary_df = get_kakei_statsdata(appId, monthly_statsDataId, \"021\", year_from = 2018,)\n",
    "salary_fig = create_syoy_fig(\n",
    "    salary_df, \n",
    "    source_name=\"家計調査結果\",\n",
    "    source_org=\"総務省統計局\",\n",
    "    source_url=\"https://www.stat.go.jp/data/kakei/index.htm\",\n",
    "    title=\"勤め先収入\"\n",
    ")\n",
    "salary_fig.show()"
   ]
  },
  {
   "cell_type": "code",
   "execution_count": null,
   "id": "0dd65954-7763-4966-9eae-d6fa3e6c76e7",
   "metadata": {},
   "outputs": [],
   "source": [
    "#salary_fig.write_image(\"salary_fig.png\", width=800, height=400)\n",
    "#salary_fig.write_html(\"salary_fig.html\")"
   ]
  },
  {
   "cell_type": "markdown",
   "id": "d67dda3d-4508-4a54-9a16-eeb83f1296e4",
   "metadata": {},
   "source": [
    "食料の支出を可視化します。"
   ]
  },
  {
   "cell_type": "code",
   "execution_count": null,
   "id": "a28f22ed-6d9f-4d46-b657-f6b5d034eec3",
   "metadata": {},
   "outputs": [],
   "source": [
    "food_df = get_kakei_statsdata(appId, monthly_statsDataId, \"060\", year_from = 2018)\n",
    "food_fig = create_syoy_fig(\n",
    "    food_df, \n",
    "    source_name=\"家計調査結果\",\n",
    "    source_org=\"総務省統計局\",\n",
    "    source_url=\"https://www.stat.go.jp/data/kakei/index.htm\",\n",
    "    title=\"食料(消費支出)\"\n",
    ")\n",
    "food_fig.show()"
   ]
  },
  {
   "cell_type": "code",
   "execution_count": null,
   "id": "894cc308-e617-4d56-92fd-3a9d47d63075",
   "metadata": {},
   "outputs": [],
   "source": [
    "#food_fig.write_image(\"food_fig.png\", width=800, height=400)\n",
    "#food_fig.write_html(\"food_fig.html\")"
   ]
  },
  {
   "cell_type": "markdown",
   "id": "99af6b48-b7ed-4e03-84a1-1ae8bd01b9c8",
   "metadata": {},
   "source": [
    "この後の消費者物価指数で調べると、米やコーヒー豆の物価が特に急上昇しています。\n",
    "\n",
    "そこで、米の支出を可視化します。"
   ]
  },
  {
   "cell_type": "code",
   "execution_count": null,
   "id": "a3691313-0538-44b5-a0c8-c509950c7bea",
   "metadata": {},
   "outputs": [],
   "source": [
    "rice_df = get_kakei_statsdata(appId, monthly_statsDataId, \"062\", year_from = 2018)\n",
    "rice_fig = create_syoy_fig(\n",
    "    rice_df, \n",
    "    source_name=\"家計調査結果\",\n",
    "    source_org=\"総務省統計局\",\n",
    "    source_url=\"https://www.stat.go.jp/data/kakei/index.htm\",\n",
    "    title=\"米(消費支出)\"\n",
    ")\n",
    "rice_fig.show()"
   ]
  },
  {
   "cell_type": "code",
   "execution_count": null,
   "id": "f8b939e8-5307-4661-8abd-a7851fd9af7e",
   "metadata": {},
   "outputs": [],
   "source": [
    "#rice_fig.write_image(\"rice_fig.png\", width=800, height=400)\n",
    "#rice_fig.write_html(\"rice_fig.html\")"
   ]
  },
  {
   "cell_type": "markdown",
   "id": "a1949857-7569-4aa8-9c2a-d167f72b72d2",
   "metadata": {},
   "source": [
    "コーヒーの支出を可視化します。"
   ]
  },
  {
   "cell_type": "code",
   "execution_count": null,
   "id": "f674736f-2bdd-4370-a702-b04e1c13ff72",
   "metadata": {},
   "outputs": [],
   "source": [
    "coffee_df = get_kakei_statsdata(appId, monthly_statsDataId, \"095\", year_from = 2018)\n",
    "coffee_fig = create_syoy_fig(\n",
    "    coffee_df, \n",
    "    source_name=\"家計調査結果\",\n",
    "    source_org=\"総務省統計局\",\n",
    "    source_url=\"https://www.stat.go.jp/data/kakei/index.htm\",\n",
    "    title=\"コーヒー(消費支出)\"\n",
    ")\n",
    "coffee_fig.show()"
   ]
  },
  {
   "cell_type": "code",
   "execution_count": null,
   "id": "b5a639b7-e457-443d-b0ea-2a14c22e013d",
   "metadata": {},
   "outputs": [],
   "source": [
    "#coffee_fig.write_image(\"coffee_fig.png\", width=800, height=400)\n",
    "#coffee_fig.write_html(\"coffee_fig.html\")"
   ]
  },
  {
   "cell_type": "markdown",
   "id": "8b83bcba-e5d7-4959-925b-758682ebd822",
   "metadata": {},
   "source": [
    "## [小売物価統計調査](https://www.stat.go.jp/data/kouri/doukou/2.html)\n",
    "\n",
    "小売物価統計調査は家計調査同様に国の基幹統計です。\n",
    "[基幹統計](https://www.soumu.go.jp/toukei_toukatsu/index/seido/1-3k.htm)は、公的統計のうち、日本国(総務大臣)が重要と指定する統計です。\n",
    "公的統計の種類は非常に多いため、書籍『[Pythonではじめるオープンデータ分析―経済統計の取得からデータハンドリング、可視化、分析まで―](https://www.kodansha.co.jp/book/products/0000419304)』では基幹統計を中心に紹介しましたが、基幹統計だけでも54種類あるため、小売物価統計は書籍では取り上げることができませんでした。\n",
    "\n",
    "「小売物価統計 [主要品目の都市別小売価格－都道府県庁所在市及び人口15万以上の市(2000年1月～)](https://www.e-stat.go.jp/stat-search/database?page=1&layout=datalist&toukei=00200571&tstat=000000680001&cycle=1&statdisp_id=0003421913&tclass1val=0)」を用いて、物価の前年同月比を可視化します。\n",
    "\n",
    "可視化の際は、小売物価統計調査の「[結果の引用・利用上の注意](https://www.stat.go.jp/data/kouri/doukou/2.html)」の規約に従います。\n",
    "\n",
    "e-Stat API は1 回のリクエストでの取得件数の合計が10 万件に制限されています。\n",
    "まずメタ情報を取得し、データの件数を確認します。"
   ]
  },
  {
   "cell_type": "code",
   "execution_count": null,
   "id": "a04b46c2-b613-494d-9a57-c76b871795f1",
   "metadata": {},
   "outputs": [],
   "source": [
    "kouri_statsDataId = \"0003421913\"\n",
    "kouri_meta = get_metainfo(appId, kouri_statsDataId)\n",
    "kouri_metadata = kouri_meta[\"GET_META_INFO\"][\"METADATA_INF\"]\n",
    "kouri_total_num = kouri_metadata[\"TABLE_INF\"][\"OVERALL_TOTAL_NUMBER\"]\n",
    "kouri_total_num"
   ]
  },
  {
   "cell_type": "markdown",
   "id": "4f785ba7-abea-4137-ae70-0b00ecb483c2",
   "metadata": {},
   "source": [
    "各カテゴリのメタデータを確認します。"
   ]
  },
  {
   "cell_type": "code",
   "execution_count": null,
   "id": "dce39da5-2d7f-4f47-ad70-7640b75b6971",
   "metadata": {},
   "outputs": [],
   "source": [
    "kouri_metadata['CLASS_INF']['CLASS_OBJ'][0]"
   ]
  },
  {
   "cell_type": "code",
   "execution_count": null,
   "id": "a1f79973-9d9a-44ad-8455-0816d0265c84",
   "metadata": {},
   "outputs": [],
   "source": [
    "kouri_metadata['CLASS_INF']['CLASS_OBJ'][1]"
   ]
  },
  {
   "cell_type": "code",
   "execution_count": null,
   "id": "dd8f1a6d-c5b5-42e4-a735-48a64c859495",
   "metadata": {},
   "outputs": [],
   "source": [
    "pd.DataFrame(kouri_metadata['CLASS_INF']['CLASS_OBJ'][2]['CLASS'])"
   ]
  },
  {
   "cell_type": "code",
   "execution_count": null,
   "id": "11c37bcd-b3d3-4583-8384-b969f9d986bf",
   "metadata": {},
   "outputs": [],
   "source": [
    "pd.DataFrame(kouri_metadata['CLASS_INF']['CLASS_OBJ'][2]['CLASS'])[\"@name\"].values[:10]"
   ]
  },
  {
   "cell_type": "code",
   "execution_count": null,
   "id": "ecb05b0e-8ab7-4aa1-9c87-56c30cb8b317",
   "metadata": {},
   "outputs": [],
   "source": [
    "pd.DataFrame(kouri_metadata['CLASS_INF']['CLASS_OBJ'][3]['CLASS']).head(30)"
   ]
  },
  {
   "cell_type": "code",
   "execution_count": null,
   "id": "7431a2d8-9008-4984-b155-f6577d0ec2df",
   "metadata": {},
   "outputs": [],
   "source": [
    "pd.DataFrame(kouri_metadata['CLASS_INF']['CLASS_OBJ'][3]['CLASS'])[\"@name\"].values"
   ]
  },
  {
   "cell_type": "code",
   "execution_count": null,
   "id": "a045ec2c-bed4-4def-b1c8-8668ee26fdf5",
   "metadata": {},
   "outputs": [],
   "source": [
    "pd.DataFrame(kouri_metadata['CLASS_INF']['CLASS_OBJ'][4]['CLASS'])"
   ]
  },
  {
   "cell_type": "markdown",
   "id": "ecd8872b-495a-4ea0-a1aa-fc743b994227",
   "metadata": {},
   "source": [
    "品目を指定して、時系列データを取得する関数を作成します。"
   ]
  },
  {
   "cell_type": "code",
   "execution_count": null,
   "id": "ee83c689-a59d-4a18-9298-e0482c4d4055",
   "metadata": {},
   "outputs": [],
   "source": [
    "def get_kouri_statsdata(\n",
    "        app_id: str, stats_id: str, cat02: str, year_from: int = 2018\n",
    "    ) -> pd.DataFrame:\n",
    "    params = {\n",
    "        \"cdCat02\": cat02,\n",
    "        \"cdArea\": \"13100\",  # 特別区部\n",
    "        \"cdTimeFrom\": f\"{year_from}000000\",\n",
    "    }\n",
    "    data = get_statsdata(app_id, stats_id, params=params)\n",
    "    value = colname_to_japanese(cleansing_statsdata(data))\n",
    "    df = value.assign(**{\n",
    "        \"年\": value[\"時間軸（月）コード\"].astype(int) // 1_000_000,\n",
    "        \"月\": value[\"時間軸（月）コード\"].str[-2:].astype(int),\n",
    "        \"年月\": lambda x: pd.to_datetime(x[\"年\"].astype(str) + \"-\" + x[\"月\"].astype(str) + \"-01\")\n",
    "    })[['年', '月', '年月', \"値\"]].sort_values(\"年月\")\n",
    "    return df"
   ]
  },
  {
   "cell_type": "markdown",
   "id": "189a921d-a461-4008-85de-c210346baef6",
   "metadata": {},
   "source": [
    "この後の消費者物価指数で調べると、米やコーヒー豆の物価が特に急上昇しています。\n",
    "\n",
    "米の物価を可視化します。"
   ]
  },
  {
   "cell_type": "code",
   "execution_count": null,
   "id": "929c58ce-f62d-4b42-b130-28135ddc93ba",
   "metadata": {},
   "outputs": [],
   "source": [
    "koshihikari_df = get_kouri_statsdata(appId, kouri_statsDataId, \"01001\", year_from = 2018)\n",
    "koshihikari_fig = create_syoy_fig(\n",
    "    koshihikari_df, \n",
    "    source_name=\"小売物価統計調査結果\",\n",
    "    source_org=\"総務省統計局\",\n",
    "    source_url=\"https://www.stat.go.jp/data/kouri/index.htm\",\n",
    "    title=\"うるち米(単一原料米,「コシヒカリ」)(小売物価)\"\n",
    ")\n",
    "koshihikari_fig.show()"
   ]
  },
  {
   "cell_type": "code",
   "execution_count": null,
   "id": "0cdc7c5f-9328-4137-b157-8dc552e1aada",
   "metadata": {},
   "outputs": [],
   "source": [
    "#koshihikari_fig.write_image(\"koshihikari_fig.png\", width=800, height=400)\n",
    "#koshihikari_fig.write_html(\"koshihikari_fig.html\")"
   ]
  },
  {
   "cell_type": "markdown",
   "id": "4808e6dd-2860-49d1-81ff-fe42933830ea",
   "metadata": {},
   "source": [
    "コーヒーについては、コーヒー豆、インスタントコーヒー、コーヒー（外食）を取得します。"
   ]
  },
  {
   "cell_type": "code",
   "execution_count": null,
   "id": "7f4a516e-1a60-436b-80cc-bfefa7556859",
   "metadata": {},
   "outputs": [],
   "source": [
    "coffee_beans_df = get_kouri_statsdata(appId, kouri_statsDataId, \"01922\", year_from = 2018)\n",
    "coffee_beans_fig = create_syoy_fig(\n",
    "    coffee_beans_df, \n",
    "    source_name=\"小売物価統計調査結果\",\n",
    "    source_org=\"総務省統計局\",\n",
    "    source_url=\"https://www.stat.go.jp/data/kouri/index.htm\",\n",
    "    title=\"コーヒー豆(小売物価)\"\n",
    ")\n",
    "coffee_beans_fig.show()"
   ]
  },
  {
   "cell_type": "code",
   "execution_count": null,
   "id": "91189ac0-2482-4e09-8f83-fff92614b5e1",
   "metadata": {},
   "outputs": [],
   "source": [
    "instant_coffee_df = get_kouri_statsdata(appId, kouri_statsDataId, \"01921\", year_from = 2018)\n",
    "instant_coffee_fig = create_syoy_fig(\n",
    "    instant_coffee_df, \n",
    "    source_name=\"小売物価統計調査結果\",\n",
    "    source_org=\"総務省統計局\",\n",
    "    source_url=\"https://www.stat.go.jp/data/kouri/index.htm\",\n",
    "    title=\"インスタントコーヒー(小売物価)\"\n",
    ")\n",
    "instant_coffee_fig.show()"
   ]
  },
  {
   "cell_type": "code",
   "execution_count": null,
   "id": "27ec8de1-446b-4104-9cb7-74edf35fe1d2",
   "metadata": {},
   "outputs": [],
   "source": [
    "eatout_coffee_df = get_kouri_statsdata(appId, kouri_statsDataId, \"02162\", year_from = 2018)\n",
    "eatout_coffee_fig = create_syoy_fig(\n",
    "    eatout_coffee_df, \n",
    "    source_name=\"小売物価統計調査結果\",\n",
    "    source_org=\"総務省統計局\",\n",
    "    source_url=\"https://www.stat.go.jp/data/kouri/index.htm\",\n",
    "    title=\"コーヒー(外食)(喫茶店)(小売物価)\"\n",
    ")\n",
    "eatout_coffee_fig.show()"
   ]
  },
  {
   "cell_type": "code",
   "execution_count": null,
   "id": "65a24f77-cac8-43ec-b54a-93445bf3af5b",
   "metadata": {},
   "outputs": [],
   "source": [
    "#coffee_beans_fig.write_image(\"coffee_beans_fig.png\", width=800, height=400)\n",
    "#coffee_beans_fig.write_html(\"coffee_beans_fig.html\")\n",
    "#instant_coffee_fig.write_image(\"instant_coffee_fig.png\", width=800, height=400)\n",
    "#instant_coffee_fig.write_html(\"instant_coffee_fig.html\")\n",
    "#eatout_coffee_fig.write_image(\"eatout_coffee_fig.png\", width=800, height=400)\n",
    "#eatout_coffee_fig.write_html(\"eatout_coffee_fig.html\")"
   ]
  },
  {
   "cell_type": "markdown",
   "id": "0ab999e2-fe38-4adb-8ef7-2961391f76a0",
   "metadata": {},
   "source": [
    "アイスクリームはよく夏の時期にe-Statで検索されるようです。"
   ]
  },
  {
   "cell_type": "code",
   "execution_count": null,
   "id": "b66c1c64-80e5-4df8-9bc2-dfd67b70eb54",
   "metadata": {},
   "outputs": [],
   "source": [
    "ice_df = get_kouri_statsdata(appId, kouri_statsDataId, \"01782\", year_from = 2018)\n",
    "ice_fig = create_syoy_fig(\n",
    "    ice_df, \n",
    "    source_name=\"小売物価統計調査結果\",\n",
    "    source_org=\"総務省統計局\",\n",
    "    source_url=\"https://www.stat.go.jp/data/kouri/index.htm\",\n",
    "    title=\"アイスクリーム(小売物価)\"\n",
    ")\n",
    "ice_fig.show()"
   ]
  },
  {
   "cell_type": "code",
   "execution_count": null,
   "id": "a645eb9f-6057-4b82-ba6e-9ad18a427f8c",
   "metadata": {},
   "outputs": [],
   "source": [
    "#ice_fig.write_image(\"ice_fig.png\", width=800, height=400)\n",
    "#ice_fig.write_html(\"ice_fig.html\")"
   ]
  },
  {
   "cell_type": "markdown",
   "id": "24d16ddb-4c6b-4712-a98c-4f1e6c03acbd",
   "metadata": {},
   "source": [
    "ビッグマック指数とは、[Wikipedia](https://ja.wikipedia.org/wiki/%E3%83%93%E3%83%83%E3%82%B0%E3%83%9E%E3%83%83%E3%82%AF%E6%8C%87%E6%95%B0)によると、マクドナルドで販売されているビッグマック1個の価格を比較することで得られる各国の経済力を測るための指数です。\n",
    "ここでは、ビッグマックではなく、ハンバーガー（外食）の物価を可視化します。"
   ]
  },
  {
   "cell_type": "code",
   "execution_count": null,
   "id": "3562b1e6-263b-4299-9979-1832269ae65d",
   "metadata": {},
   "outputs": [],
   "source": [
    "hamburger_df = get_kouri_statsdata(appId, kouri_statsDataId, \"02135\", year_from = 2018)\n",
    "hamburger_fig = create_syoy_fig(\n",
    "    hamburger_df, \n",
    "    source_name=\"小売物価統計調査結果\",\n",
    "    source_org=\"総務省統計局\",\n",
    "    source_url=\"https://www.stat.go.jp/data/kouri/index.htm\",\n",
    "    title=\"ハンバーガー(外食)(小売物価)\"\n",
    ")\n",
    "hamburger_fig.show()"
   ]
  },
  {
   "cell_type": "code",
   "execution_count": null,
   "id": "14a3abbe-b436-4887-b880-83e33118abd3",
   "metadata": {},
   "outputs": [],
   "source": [
    "#hamburger_fig.write_image(\"hamburger_fig.png\", width=800, height=400)\n",
    "#hamburger_fig.write_html(\"hamburger_fig.html\")"
   ]
  },
  {
   "cell_type": "markdown",
   "id": "7898a995-5bee-442b-a987-571c93e3b2e4",
   "metadata": {},
   "source": [
    "## 消費者物価指数\n",
    "\n",
    "[消費者物価指数（2020年基準）](https://www.e-stat.go.jp/stat-search/database?page=1&layout=datalist&toukei=00200573&tstat=000001150147&cycle=0&statdisp_id=0003427113&tclass1val=0)は、書籍『[Pythonではじめるオープンデータ分析―経済統計の取得からデータハンドリング、可視化、分析まで―](https://www.kodansha.co.jp/book/products/0000419304)』の第10章「国際統計・長期経済統計の取得・可視化・分析」で説明しています。\n",
    "書籍では、総合指数を取り上げましたが、ここでは\"食料\"などのカテゴリの物価指数を扱います。\n",
    "\n",
    "可視化の際は、総務省統計局の「[サイトの利用について](https://www.stat.go.jp/info/riyou.html)」の規約に従います。\n",
    "\n",
    "e-Stat API は1 回のリクエストでの取得件数の合計が10 万件に制限されています。\n",
    "まずメタ情報を取得し、データの件数を確認します。"
   ]
  },
  {
   "cell_type": "code",
   "execution_count": null,
   "id": "a5d8b3b5-484d-4ad8-8797-1fa62e732720",
   "metadata": {},
   "outputs": [],
   "source": [
    "cpi_statsDataId = \"0003427113\"\n",
    "cpi_meta = get_metainfo(appId, cpi_statsDataId)\n",
    "cpi_metadata = cpi_meta[\"GET_META_INFO\"][\"METADATA_INF\"]\n",
    "cpi_total_num = cpi_metadata[\"TABLE_INF\"][\"OVERALL_TOTAL_NUMBER\"]\n",
    "cpi_total_num"
   ]
  },
  {
   "cell_type": "markdown",
   "id": "23d24621-a9f0-4ecd-99d0-eb11bbdb8931",
   "metadata": {},
   "source": [
    "カテゴリごとにメタデータを確認します。"
   ]
  },
  {
   "cell_type": "code",
   "execution_count": null,
   "id": "43763543-4867-4648-aa27-8c12baf0d026",
   "metadata": {},
   "outputs": [],
   "source": [
    "cpi_metadata['CLASS_INF']['CLASS_OBJ'][0]['CLASS']"
   ]
  },
  {
   "cell_type": "code",
   "execution_count": null,
   "id": "ce23807c-e842-4ee4-82e3-d26daae75c79",
   "metadata": {},
   "outputs": [],
   "source": [
    "cpi_cat_df = pd.DataFrame(cpi_metadata['CLASS_INF']['CLASS_OBJ'][1]['CLASS'])\n",
    "cpi_cat_df"
   ]
  },
  {
   "cell_type": "code",
   "execution_count": null,
   "id": "c8862526-7db0-4dcd-a727-88f039138a38",
   "metadata": {},
   "outputs": [],
   "source": [
    "cpi_cat_df[cpi_cat_df[\"@level\"]==\"1\"].head()"
   ]
  },
  {
   "cell_type": "code",
   "execution_count": null,
   "id": "137e5636-9a7a-4941-b2dd-4ca0e0e18bd5",
   "metadata": {},
   "outputs": [],
   "source": [
    "cpi_cat_df.loc[cpi_cat_df[\"@level\"]==\"6\", \"@name\"].values[:5]"
   ]
  },
  {
   "cell_type": "code",
   "execution_count": null,
   "id": "07eab91a-717b-405f-b109-3babee53613e",
   "metadata": {},
   "outputs": [],
   "source": [
    "pd.DataFrame(cpi_metadata['CLASS_INF']['CLASS_OBJ'][2]['CLASS'])"
   ]
  },
  {
   "cell_type": "code",
   "execution_count": null,
   "id": "38e70ed7-d6c8-4524-9472-d48632c908d3",
   "metadata": {},
   "outputs": [],
   "source": [
    "pd.DataFrame(cpi_metadata['CLASS_INF']['CLASS_OBJ'][3]['CLASS'])"
   ]
  },
  {
   "cell_type": "markdown",
   "id": "18ea7c18-f33c-4c62-8a48-2578ad27e89b",
   "metadata": {},
   "source": [
    "特定の年月のすべての品目の物価を取得する関数を作成します。"
   ]
  },
  {
   "cell_type": "code",
   "execution_count": null,
   "id": "50b87c34-b52d-45d8-a5aa-b7dc75e48f4f",
   "metadata": {},
   "outputs": [],
   "source": [
    "def get_cpi_statsdata_by_lv(\n",
    "        app_id: str, stats_id: str, lvcat01: str, yyyy: str = \"2024\", mm: str = \"00\"\n",
    "    ) -> pd.DataFrame:\n",
    "    params = {\n",
    "        \"cdTab\": \"1\",\n",
    "        \"lvCat01\": lvcat01,\n",
    "        \"cdArea\": \"00000\",  # 全国\n",
    "        \"cdTime\": f\"{yyyy}00{mm}{mm}\",\n",
    "    }\n",
    "    data = get_statsdata(app_id, stats_id, params=params)\n",
    "    value = colname_to_japanese(cleansing_statsdata(data))\n",
    "    df = value.assign(**{\n",
    "        \"年\": value[\"時間軸（年・月）コード\"].astype(int) // 1_000_000,\n",
    "    })[['年', '2020年基準品目', \"値\"]].sort_values(\"年\")\n",
    "    return df"
   ]
  },
  {
   "cell_type": "markdown",
   "id": "8a6aa646-af3b-4757-803a-282dbe75e072",
   "metadata": {},
   "source": [
    "品目ごとに直近2025年7月とコロナ禍前の2019年7月の物価を比較します。"
   ]
  },
  {
   "cell_type": "code",
   "execution_count": null,
   "id": "d06f98b6-5552-47e2-8b74-f267fe59351c",
   "metadata": {},
   "outputs": [],
   "source": [
    "cpi_lv1_df_25 = get_cpi_statsdata_by_lv(appId, cpi_statsDataId, \"1\", yyyy = \"2025\", mm = \"07\")\n",
    "cpi_lv1_df_19 = get_cpi_statsdata_by_lv(appId, cpi_statsDataId, \"1\", yyyy = \"2019\", mm = \"07\")\n",
    "\n",
    "cpi_lv6_df_25 = get_cpi_statsdata_by_lv(appId, cpi_statsDataId, \"6\", yyyy = \"2025\", mm = \"07\")\n",
    "cpi_lv6_df_19 = get_cpi_statsdata_by_lv(appId, cpi_statsDataId, \"6\", yyyy = \"2019\", mm = \"07\")"
   ]
  },
  {
   "cell_type": "code",
   "execution_count": null,
   "id": "c7afd783-b964-4fda-8f13-cf9afd278383",
   "metadata": {},
   "outputs": [],
   "source": [
    "cpi_lv1_df = pd.concat([cpi_lv1_df_25, cpi_lv1_df_19]).set_index([\"2020年基準品目\", \"年\"]).unstack()\n",
    "cpi_lv1_sort = (cpi_lv1_df\n",
    "    .set_axis(cpi_lv1_df.columns.levels[1], axis=1)\n",
    "    .assign(**{\"物価上昇率\": lambda x: x[2025] / x[2019]})\n",
    "    .sort_values(\"物価上昇率\", ascending=False)\n",
    ")\n",
    "cpi_lv1_sort.head(30)"
   ]
  },
  {
   "cell_type": "code",
   "execution_count": null,
   "id": "9b3249a6-f8cd-4fe9-8f28-bd946d4f3ace",
   "metadata": {},
   "outputs": [],
   "source": [
    "cpi_lv6_df = pd.concat([cpi_lv6_df_25, cpi_lv6_df_19]).set_index([\"2020年基準品目\", \"年\"]).unstack()\n",
    "cpi_lv6_sort = (cpi_lv6_df\n",
    "    .set_axis(cpi_lv6_df.columns.levels[1], axis=1)\n",
    "    .assign(**{\"物価上昇率\": lambda x: x[2025] / x[2019]})\n",
    "    .sort_values(\"物価上昇率\", ascending=False)\n",
    ")\n",
    "cpi_lv6_sort.head(30)"
   ]
  },
  {
   "cell_type": "code",
   "execution_count": null,
   "id": "101db782-2c3f-4d23-beac-0329edebd5f1",
   "metadata": {},
   "outputs": [],
   "source": [
    "#!uv pip install tabulate"
   ]
  },
  {
   "cell_type": "code",
   "execution_count": null,
   "id": "051aa683-f432-4929-8cee-3f545260b9c4",
   "metadata": {},
   "outputs": [],
   "source": [
    "print(cpi_lv6_sort.head(20).to_markdown())"
   ]
  },
  {
   "cell_type": "markdown",
   "id": "e56e2d1e-07be-4614-8bfe-f97bd75541eb",
   "metadata": {},
   "source": [
    "より細分化した品目についても比較します。"
   ]
  },
  {
   "cell_type": "code",
   "execution_count": null,
   "id": "2ab7b414-27f1-4f7e-ad0c-253e38758a9a",
   "metadata": {
    "scrolled": true
   },
   "outputs": [],
   "source": [
    "cpi_lv6_df_2025 = get_cpi_statsdata_by_lv(appId, cpi_statsDataId, \"6\", yyyy = \"2025\", mm = \"07\")\n",
    "cpi_lv6_df_2019 = get_cpi_statsdata_by_lv(appId, cpi_statsDataId, \"6\", yyyy = \"2019\", mm = \"07\")\n",
    "cpi_lv6_df = pd.concat([cpi_lv6_df_2025, cpi_lv6_df_2019]).set_index([\"2020年基準品目\", \"年\"]).unstack()\n",
    "cpi_lv6_sort = (cpi_lv6_df\n",
    "    .set_axis(cpi_lv6_df.columns.levels[1], axis=1)\n",
    "    .assign(**{\"物価上昇率\": lambda x: x[2025] / x[2019]})\n",
    "    .sort_values(\"物価上昇率\", ascending=False)\n",
    ")\n",
    "cpi_lv6_sort.head(30)"
   ]
  },
  {
   "cell_type": "markdown",
   "id": "5f2a9f1f-70a3-4648-b141-3af5ea00d6a4",
   "metadata": {},
   "source": [
    "続いて、品目を指定して、時系列データを取得する関数を作成します。"
   ]
  },
  {
   "cell_type": "code",
   "execution_count": null,
   "id": "5c1d0479-0914-4dec-90ea-bc418d056c1a",
   "metadata": {},
   "outputs": [],
   "source": [
    "def get_cpi_statsdata(\n",
    "        app_id: str, stats_id: str, cat01: str, year_from: int = 2018\n",
    "    ) -> pd.DataFrame:\n",
    "    params = {\n",
    "        \"cdTab\": \"1\",\n",
    "        \"cdCat01\": cat01,\n",
    "        \"cdArea\": \"00000\",  # 全国\n",
    "        \"cdTimeFrom\": f\"{year_from}000000\",\n",
    "    }\n",
    "    data = get_statsdata(app_id, stats_id, params=params)\n",
    "    value = colname_to_japanese(cleansing_statsdata(data))\n",
    "    value[\"時間軸（年・月）コード\"].str[-2:]!=\"00\"\n",
    "    df = value[value[\"時間軸（年・月）コード\"].str[-2:]!=\"00\"].assign(**{\n",
    "        \"年\": value[\"時間軸（年・月）コード\"].astype(int) // 1_000_000,\n",
    "        \"月\": value[\"時間軸（年・月）コード\"].str[-2:].astype(int),\n",
    "        \"年月\": lambda x: pd.to_datetime(x[\"年\"].astype(str) + \"-\" + x[\"月\"].astype(str) + \"-01\")\n",
    "    })[['年', '月', '年月', '2020年基準品目', \"値\"]].sort_values(\"年月\")\n",
    "    return df"
   ]
  },
  {
   "cell_type": "markdown",
   "id": "8c21729d-d0da-4bfd-a927-02f31223f254",
   "metadata": {},
   "source": [
    "米やコーヒーの物価上昇率が高くなっています。\n",
    "そこで、米（うるち米A）のデータを取得します。\n",
    "コーヒーについては、コーヒー豆、インスタントコーヒー、コーヒー（外食）を取得します。\n",
    "比較のために食料と総合指数も取得します。"
   ]
  },
  {
   "cell_type": "code",
   "execution_count": null,
   "id": "c6e38332-6dfc-4539-8424-779c508680e1",
   "metadata": {},
   "outputs": [],
   "source": [
    "cpi_df = get_cpi_statsdata(appId, cpi_statsDataId, \"0001\", year_from = 2018)\n",
    "food_cpi_df = get_cpi_statsdata(appId, cpi_statsDataId, \"0002\", year_from = 2018)\n",
    "rice_cpi_df = get_cpi_statsdata(appId, cpi_statsDataId, \"1001\", year_from = 2018)\n",
    "coffee_beans_cpi_df = get_cpi_statsdata(appId, cpi_statsDataId, \"1922\", year_from = 2018)\n",
    "instant_coffee_cpi_df = get_cpi_statsdata(appId, cpi_statsDataId, \"1921\", year_from = 2018)\n",
    "eatout_coffee_cpi_df = get_cpi_statsdata(appId, cpi_statsDataId, \"2162\", year_from = 2018)\n",
    "hamburger_cpi_df = get_cpi_statsdata(appId, cpi_statsDataId, \"2135\", year_from = 2018)  # おまけ\n",
    "\n",
    "cpi_concat = pd.concat([\n",
    "    cpi_df, \n",
    "    food_cpi_df, \n",
    "    rice_cpi_df, \n",
    "    coffee_beans_cpi_df, \n",
    "    instant_coffee_cpi_df, \n",
    "    eatout_coffee_cpi_df, \n",
    "    hamburger_cpi_df\n",
    "])\n",
    "cpi_concat.head()"
   ]
  },
  {
   "cell_type": "markdown",
   "id": "94c4ae2c-2040-450b-8c82-623b86e1bc6f",
   "metadata": {},
   "source": [
    "2018年から2025年までの消費者物価指数の推移を可視化します。"
   ]
  },
  {
   "cell_type": "code",
   "execution_count": null,
   "id": "61ee7edb-222d-447e-b4c0-53779eb5e853",
   "metadata": {},
   "outputs": [],
   "source": [
    "source_name = \"「消費者物価指数」\"\n",
    "source_org = \"総務省統計局\"\n",
    "source_url = \"https://www.stat.go.jp/data/cpi/index.htm\"\n",
    "cpi_fig = px.line(cpi_concat, x=\"年月\", y=\"値\", color=\"2020年基準品目\")\n",
    "cpi_fig.update_layout(width=1000, height=400, font={\"size\": 18},\n",
    "    title={\"text\": \"消費者物価指数\", \"x\": 0.3, \"xanchor\": \"center\", \"font\": {\"size\": 18}},\n",
    "    xaxis={\"title\": None, \"ticksuffix\": \"年\"},\n",
    "    yaxis={\n",
    "        \"tickformat\": \",.0f\", \n",
    "        \"title\": None,\n",
    "        # \"rangemode\": \"tozero\"\n",
    "    },\n",
    "    margin={\"b\": 80}  # 下部マージンを広げて注釈のスペースを確保\n",
    ")\n",
    "# 出典情報を追加\n",
    "today = datetime.date.today()\n",
    "date_str = f\"{today.year}年{today.month}月{today.day}日\"\n",
    "citation = f\"＊「{source_name}」（{source_org}）（{source_url}）（{date_str}に利用）\"\n",
    "cpi_fig.add_annotation(\n",
    "    text=citation,\n",
    "    xref=\"paper\",\n",
    "    yref=\"paper\",\n",
    "    x=1,  # 右端\n",
    "    y=-0.15,  # グラフの下（外側）\n",
    "    xanchor=\"right\",\n",
    "    yanchor=\"top\",\n",
    "    showarrow=False,\n",
    "    font={\"size\": 10, \"color\": \"gray\"}\n",
    ")\n",
    "cpi_fig.show()"
   ]
  },
  {
   "cell_type": "code",
   "execution_count": null,
   "id": "2afbaab7-c525-48a4-b889-bf49fe7b176f",
   "metadata": {},
   "outputs": [],
   "source": [
    "#cpi_fig.write_image(\"cpi_fig.png\", width=1000, height=400)\n",
    "#cpi_fig.write_html(\"cpi_fig.html\")"
   ]
  },
  {
   "cell_type": "markdown",
   "id": "5fd2eb32-2364-430a-b3e3-4dd2071bedcb",
   "metadata": {},
   "source": [
    "## 家計調査と小売物価統計調査の組み合わせ\n"
   ]
  },
  {
   "cell_type": "code",
   "execution_count": null,
   "id": "1575f20d-224f-4e3a-9f1d-230f270647c7",
   "metadata": {},
   "outputs": [],
   "source": [
    "# グラフの作成\n",
    "rice_fig2 = go.Figure()\n",
    "# 家計調査のデータ（左軸）\n",
    "rice_fig2.add_trace(go.Scatter(\n",
    "    x=rice_df['年月'],\n",
    "    y=rice_df['値'],\n",
    "    name='家計調査: 米',\n",
    "    yaxis='y'\n",
    "))\n",
    "# 小売物価統計調査のデータ（右軸）\n",
    "rice_fig2.add_trace(go.Scatter(\n",
    "    x=koshihikari_df['年月'],\n",
    "    y=koshihikari_df['値'],\n",
    "    name='小売物価統計調査: うるち米',\n",
    "    yaxis='y2'\n",
    "))\n",
    "# レイアウトの設定\n",
    "rice_fig2.update_layout(width=1000, height=400, font={\"size\": 18},\n",
    "    title={\"text\": \"家計調査と小売物価統計調査の米の推移（2軸グラフ）\", \"x\": 0.3, \"xanchor\": \"center\", \"font\": {\"size\": 18}},\n",
    "    xaxis={\"title\": None, \"ticksuffix\": \"年\"},\n",
    "    yaxis={\"title\": \"家計調査（円）\", \"tickformat\": \",.0f\"},\n",
    "    yaxis2={\n",
    "        \"title\": \"小売物価統計（円）\",\n",
    "        \"tickformat\": \",.0f\", \n",
    "        \"overlaying\": \"y\",\n",
    "        \"side\": \"right\"\n",
    "    },\n",
    "    legend={\"x\": 0.01, \"y\": 0.99},\n",
    "    margin={\"b\": 80},  # 下部マージンを広げて注釈のスペースを確保\n",
    "    hovermode=\"x unified\",\n",
    ")\n",
    "# 出典情報を追加\n",
    "today = datetime.date.today()\n",
    "date_str = f\"{today.year}年{today.month}月{today.day}日\"\n",
    "citation = f\"＊「家計調査結果」（総務省統計局）（https://www.stat.go.jp/data/kakei/index.htm）および<br>「小売物価統計調査結果」（総務省統計局）（https://www.stat.go.jp/data/kouri/index.htm）（{date_str}に利用）\"\n",
    "rice_fig2.add_annotation(\n",
    "    text=citation,\n",
    "    xref=\"paper\",\n",
    "    yref=\"paper\",\n",
    "    x=1.0,  # 右端\n",
    "    y=-0.15,  # グラフの下（外側）\n",
    "    xanchor=\"right\",\n",
    "    yanchor=\"top\",\n",
    "    showarrow=False,\n",
    "    font={\"size\": 10, \"color\": \"gray\"},\n",
    "    align=\"left\",\n",
    ")\n",
    "rice_fig2.show()"
   ]
  },
  {
   "cell_type": "code",
   "execution_count": null,
   "id": "499b697a-880b-45ea-a89f-ef841f4f8cd8",
   "metadata": {},
   "outputs": [],
   "source": [
    "#rice_fig2.write_image(\"rice_fig2.png\", width=1000, height=400)\n",
    "#rice_fig2.write_html(\"rice_fig2.html\")"
   ]
  },
  {
   "cell_type": "code",
   "execution_count": null,
   "id": "01b34ac5-f1a6-4d0b-94ae-57a7f31fe90d",
   "metadata": {},
   "outputs": [],
   "source": []
  },
  {
   "cell_type": "code",
   "execution_count": null,
   "id": "0d158bb0-c0f9-4b31-be0b-214ce47bca29",
   "metadata": {},
   "outputs": [],
   "source": [
    "# グラフの作成\n",
    "coffee_beans_fig2 = go.Figure()\n",
    "# 家計調査のデータ（左軸）\n",
    "coffee_beans_fig2.add_trace(go.Scatter(\n",
    "    x=coffee_df['年月'],\n",
    "    y=coffee_df['値'],\n",
    "    name='家計調査: コーヒー',\n",
    "    yaxis='y'\n",
    "))\n",
    "# 小売物価統計調査のデータ（右軸）\n",
    "coffee_beans_fig2.add_trace(go.Scatter(\n",
    "    x=coffee_beans_df['年月'],\n",
    "    y=coffee_beans_df['値'],\n",
    "    name='小売物価統計調査: コーヒー豆',\n",
    "    yaxis='y2'\n",
    "))\n",
    "# レイアウトの設定\n",
    "coffee_beans_fig2.update_layout(width=1000, height=400, font={\"size\": 18},\n",
    "    title={\"text\": \"家計調査と小売物価統計調査のコーヒーの推移（2軸グラフ）\", \"x\": 0.3, \"xanchor\": \"center\", \"font\": {\"size\": 18}},\n",
    "    xaxis={\"title\": None, \"ticksuffix\": \"年\"},\n",
    "    yaxis={\"title\": \"家計調査（円）\", \"tickformat\": \",.0f\"},\n",
    "    yaxis2={\n",
    "        \"title\": \"小売物価統計（円）\",\n",
    "        \"tickformat\": \",.0f\", \n",
    "        \"overlaying\": \"y\",\n",
    "        \"side\": \"right\"\n",
    "    },\n",
    "    legend={\"x\": 0.01, \"y\": 0.99},\n",
    "    margin={\"b\": 80},  # 下部マージンを広げて注釈のスペースを確保\n",
    "    hovermode=\"x unified\",\n",
    ")\n",
    "# 出典情報を追加\n",
    "today = datetime.date.today()\n",
    "date_str = f\"{today.year}年{today.month}月{today.day}日\"\n",
    "citation = f\"＊「家計調査結果」（総務省統計局）（https://www.stat.go.jp/data/kakei/index.htm）および<br>「小売物価統計調査結果」（総務省統計局）（https://www.stat.go.jp/data/kouri/index.htm）（{date_str}に利用）\"\n",
    "coffee_beans_fig2.add_annotation(\n",
    "    text=citation,\n",
    "    xref=\"paper\",\n",
    "    yref=\"paper\",\n",
    "    x=1.0,  # 右端\n",
    "    y=-0.15,  # グラフの下（外側）\n",
    "    xanchor=\"right\",\n",
    "    yanchor=\"top\",\n",
    "    showarrow=False,\n",
    "    font={\"size\": 10, \"color\": \"gray\"},\n",
    "    align=\"left\",\n",
    ")\n",
    "coffee_beans_fig2.show()"
   ]
  },
  {
   "cell_type": "code",
   "execution_count": null,
   "id": "35d309cf-b544-4abd-8a15-3e84423b3f02",
   "metadata": {},
   "outputs": [],
   "source": [
    "#coffee_beans_fig2.write_image(\"coffee_beans_fig2.png\", width=1000, height=400)\n",
    "#coffee_beans_fig2.write_html(\"coffee_beans_fig2.html\")"
   ]
  },
  {
   "cell_type": "code",
   "execution_count": null,
   "id": "09ddacab-5b47-4249-8e56-63bccd947db2",
   "metadata": {},
   "outputs": [],
   "source": [
    "# グラフの作成\n",
    "eatout_coffee_fig2 = go.Figure()\n",
    "# 家計調査のデータ（左軸）\n",
    "eatout_coffee_fig2.add_trace(go.Scatter(\n",
    "    x=coffee_df['年月'],\n",
    "    y=coffee_df['値'],\n",
    "    name='家計調査: コーヒー',\n",
    "    yaxis='y'\n",
    "))\n",
    "# 小売物価統計調査のデータ（右軸）\n",
    "eatout_coffee_fig2.add_trace(go.Scatter(\n",
    "    x=eatout_coffee_df['年月'],\n",
    "    y=eatout_coffee_df['値'],\n",
    "    name='小売物価統計調査: コーヒー（外食）',\n",
    "    yaxis='y2'\n",
    "))\n",
    "# レイアウトの設定\n",
    "eatout_coffee_fig2.update_layout(width=1000, height=400, font={\"size\": 18},\n",
    "    title={\"text\": \"家計調査と小売物価統計調査のコーヒーの推移（2軸グラフ）\", \"x\": 0.3, \"xanchor\": \"center\", \"font\": {\"size\": 18}},\n",
    "    xaxis={\"title\": None, \"ticksuffix\": \"年\"},\n",
    "    yaxis={\"title\": \"家計調査（円）\", \"tickformat\": \",.0f\"},\n",
    "    yaxis2={\n",
    "        \"title\": \"小売物価統計（円）\",\n",
    "        \"tickformat\": \",.0f\", \n",
    "        \"overlaying\": \"y\",\n",
    "        \"side\": \"right\"\n",
    "    },\n",
    "    legend={\"x\": 0.01, \"y\": 0.99},\n",
    "    margin={\"b\": 80},  # 下部マージンを広げて注釈のスペースを確保\n",
    "    hovermode=\"x unified\",\n",
    ")\n",
    "# 出典情報を追加\n",
    "today = datetime.date.today()\n",
    "date_str = f\"{today.year}年{today.month}月{today.day}日\"\n",
    "citation = f\"＊「家計調査結果」（総務省統計局）（https://www.stat.go.jp/data/kakei/index.htm）および<br>「小売物価統計調査結果」（総務省統計局）（https://www.stat.go.jp/data/kouri/index.htm）（{date_str}に利用）\"\n",
    "eatout_coffee_fig2.add_annotation(\n",
    "    text=citation,\n",
    "    xref=\"paper\",\n",
    "    yref=\"paper\",\n",
    "    x=1.0,  # 右端\n",
    "    y=-0.15,  # グラフの下（外側）\n",
    "    xanchor=\"right\",\n",
    "    yanchor=\"top\",\n",
    "    showarrow=False,\n",
    "    font={\"size\": 10, \"color\": \"gray\"},\n",
    "    align=\"left\",\n",
    ")\n",
    "eatout_coffee_fig2.show()"
   ]
  },
  {
   "cell_type": "code",
   "execution_count": null,
   "id": "01622561-dff9-45ba-87ba-4649761c252d",
   "metadata": {},
   "outputs": [],
   "source": [
    "#eatout_coffee_fig2.write_image(\"eatout_coffee_fig2.png\", width=1000, height=400)\n",
    "#eatout_coffee_fig2.write_html(\"eatout_coffee_fig2.html\")"
   ]
  },
  {
   "cell_type": "code",
   "execution_count": null,
   "id": "568083bc-ab46-4d74-a5b3-cfe7ba97b651",
   "metadata": {},
   "outputs": [],
   "source": [
    "# グラフの作成\n",
    "coffee_fig2 = go.Figure()\n",
    "# 家計調査のデータ（左軸）\n",
    "coffee_fig2.add_trace(go.Scatter(\n",
    "    x=coffee_df['年月'],\n",
    "    y=coffee_df['値'],\n",
    "    name='家計調査: コーヒー',\n",
    "    yaxis='y'\n",
    "))\n",
    "# 小売物価統計調査のデータ（右軸）\n",
    "coffee_fig2.add_trace(go.Scatter(\n",
    "    x=coffee_beans_df['年月'],\n",
    "    y=coffee_beans_df['値'],\n",
    "    name='小売物価統計調査: コーヒー豆',\n",
    "    yaxis='y2'\n",
    "))\n",
    "coffee_fig2.add_trace(go.Scatter(\n",
    "    x=eatout_coffee_df['年月'],\n",
    "    y=eatout_coffee_df['値'],\n",
    "    name='小売物価統計調査: コーヒー（外食）',\n",
    "    yaxis='y2'\n",
    "))\n",
    "# レイアウトの設定\n",
    "coffee_fig2.update_layout(width=1000, height=500, font={\"size\": 18},\n",
    "    title={\"text\": \"家計調査と小売物価統計調査のコーヒーの推移（2軸グラフ）\", \"x\": 0.3, \"xanchor\": \"center\", \"font\": {\"size\": 18}},\n",
    "    xaxis={\"title\": None, \"ticksuffix\": \"年\"},\n",
    "    yaxis={\"title\": \"家計調査（円）\", \"tickformat\": \",.0f\"},\n",
    "    yaxis2={\n",
    "        \"title\": \"小売物価統計（円）\",\n",
    "        \"tickformat\": \",.0f\", \n",
    "        \"overlaying\": \"y\",\n",
    "        \"side\": \"right\"\n",
    "    },\n",
    "    legend={\"x\": 0.05, \"y\": 1.1},\n",
    "    margin={\"b\": 80},  # 下部マージンを広げて注釈のスペースを確保\n",
    "    hovermode=\"x unified\",\n",
    ")\n",
    "# 出典情報を追加\n",
    "today = datetime.date.today()\n",
    "date_str = f\"{today.year}年{today.month}月{today.day}日\"\n",
    "citation = f\"＊「家計調査結果」（総務省統計局）（https://www.stat.go.jp/data/kakei/index.htm）および<br>「小売物価統計調査結果」（総務省統計局）（https://www.stat.go.jp/data/kouri/index.htm）（{date_str}に利用）\"\n",
    "coffee_fig2.add_annotation(\n",
    "    text=citation,\n",
    "    xref=\"paper\",\n",
    "    yref=\"paper\",\n",
    "    x=1.0,  # 右端\n",
    "    y=-0.15,  # グラフの下（外側）\n",
    "    xanchor=\"right\",\n",
    "    yanchor=\"top\",\n",
    "    showarrow=False,\n",
    "    font={\"size\": 10, \"color\": \"gray\"},\n",
    "    align=\"left\",\n",
    ")\n",
    "coffee_fig2.show()"
   ]
  },
  {
   "cell_type": "code",
   "execution_count": null,
   "id": "ddb649e8-8d5e-4017-88aa-bb9930086256",
   "metadata": {},
   "outputs": [],
   "source": []
  }
 ],
 "metadata": {
  "kernelspec": {
   "display_name": "Python 3 (ipykernel)",
   "language": "python",
   "name": "python3"
  },
  "language_info": {
   "codemirror_mode": {
    "name": "ipython",
    "version": 3
   },
   "file_extension": ".py",
   "mimetype": "text/x-python",
   "name": "python",
   "nbconvert_exporter": "python",
   "pygments_lexer": "ipython3",
   "version": "3.12.10"
  }
 },
 "nbformat": 4,
 "nbformat_minor": 5
}
