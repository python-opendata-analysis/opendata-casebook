{
 "cells": [
  {
   "cell_type": "markdown",
   "id": "8ef94f3d-7d96-4993-a226-82b9612463c1",
   "metadata": {},
   "source": [
    "# 家計調査サンキーダイアグラム\n",
    "\n",
    "準備として、ライブラリをインポートします。"
   ]
  },
  {
   "cell_type": "code",
   "execution_count": null,
   "id": "d052b8b0-df32-41ef-802f-ecdbc03e3198",
   "metadata": {},
   "outputs": [],
   "source": [
    "# 環境変数とパス設定に用いるライブラリ\n",
    "import os\n",
    "from dotenv import load_dotenv\n",
    "from pathlib import Path\n",
    "# データ取得に用いるライブラリ\n",
    "import requests\n",
    "# データ処理に用いるライブラリ\n",
    "import datetime\n",
    "import pandas as pd\n",
    "# 可視化に用いるライブラリ\n",
    "import plotly\n",
    "import plotly.graph_objs as go"
   ]
  },
  {
   "cell_type": "code",
   "execution_count": null,
   "id": "1bf3de44-714a-433e-9cfc-18455eb29e08",
   "metadata": {},
   "outputs": [],
   "source": [
    "os.getcwd(), os.path.abspath(os.path.join(os.getcwd(), \"../../..\"))"
   ]
  },
  {
   "cell_type": "code",
   "execution_count": null,
   "id": "afe3c9f3-f585-4e2d-b44c-18d8f4a39b47",
   "metadata": {},
   "outputs": [],
   "source": [
    "import sys\n",
    "sys.path.append(os.path.abspath(os.path.join(os.getcwd(), \"..\")))"
   ]
  },
  {
   "cell_type": "code",
   "execution_count": null,
   "id": "de291427-e9ff-4299-a24e-4699f8b3d8cb",
   "metadata": {},
   "outputs": [],
   "source": [
    "from estat import (\n",
    "    get_metainfo,\n",
    "    get_statsdata,\n",
    "    cleansing_statsdata,\n",
    "    colname_to_japanese,\n",
    "    create_hierarchy_dataframe\n",
    ")"
   ]
  },
  {
   "cell_type": "code",
   "execution_count": null,
   "id": "538b44b2-1ea6-4513-ad4b-f4a5452381b7",
   "metadata": {},
   "outputs": [],
   "source": [
    "load_dotenv()\n",
    "appId = os.getenv(\"ESTAT_APP_ID\")"
   ]
  },
  {
   "cell_type": "markdown",
   "id": "2bfc682b-c85e-4d65-a8b8-00dce3b9c1c9",
   "metadata": {},
   "source": [
    "## 家計調査のデータ取得と前処理"
   ]
  },
  {
   "cell_type": "code",
   "execution_count": null,
   "id": "150f7e23-13eb-4748-bab9-c9494464925b",
   "metadata": {},
   "outputs": [],
   "source": [
    "annual_statsDataId = \"0002070011\"\n",
    "annual_meta = get_metainfo(appId, annual_statsDataId)\n",
    "annual_metadata = annual_meta[\"GET_META_INFO\"][\"METADATA_INF\"]\n",
    "annual_total_num = annual_metadata[\"TABLE_INF\"][\"OVERALL_TOTAL_NUMBER\"]\n",
    "annual_total_num"
   ]
  },
  {
   "cell_type": "code",
   "execution_count": null,
   "id": "753d4a9f-9c5e-419b-bca1-0ccb7bf5cef7",
   "metadata": {},
   "outputs": [],
   "source": [
    "annual_metadata['CLASS_INF']['CLASS_OBJ'][0]"
   ]
  },
  {
   "cell_type": "code",
   "execution_count": null,
   "id": "40432752-eba0-443a-9317-ac7975a0ad7a",
   "metadata": {
    "scrolled": true
   },
   "outputs": [],
   "source": [
    "annual_metadata['CLASS_INF']['CLASS_OBJ'][1]['CLASS'][:5]"
   ]
  },
  {
   "cell_type": "code",
   "execution_count": null,
   "id": "f1c97fe6-c410-4cf6-82ad-7a45356bb085",
   "metadata": {},
   "outputs": [],
   "source": [
    "annual_metadata['CLASS_INF']['CLASS_OBJ'][2]"
   ]
  },
  {
   "cell_type": "code",
   "execution_count": null,
   "id": "98a74d4a-a902-4463-9e59-e419572a5e51",
   "metadata": {
    "scrolled": true
   },
   "outputs": [],
   "source": [
    "annual_metadata['CLASS_INF']['CLASS_OBJ'][3]['CLASS'][:5]"
   ]
  },
  {
   "cell_type": "code",
   "execution_count": null,
   "id": "3ce8381c-85f0-4aae-9315-bfee005674c6",
   "metadata": {},
   "outputs": [],
   "source": [
    "annual_metadata['CLASS_INF']['CLASS_OBJ'][4]"
   ]
  },
  {
   "cell_type": "code",
   "execution_count": null,
   "id": "6aa2d02d-db0b-4dee-b96e-80e66bea98c9",
   "metadata": {},
   "outputs": [],
   "source": [
    "annual_metadata['CLASS_INF']['CLASS_OBJ'][5][\"@name\"]"
   ]
  },
  {
   "cell_type": "code",
   "execution_count": null,
   "id": "e8e3ec37-ae30-4373-bd06-550f483567bc",
   "metadata": {
    "scrolled": true
   },
   "outputs": [],
   "source": [
    "annual_metadata['CLASS_INF']['CLASS_OBJ'][5]['CLASS'][:5]"
   ]
  },
  {
   "cell_type": "code",
   "execution_count": null,
   "id": "d1a9ebab-3d58-43ad-bdfb-b5f767dfd97c",
   "metadata": {},
   "outputs": [],
   "source": [
    "annual_params = {\n",
    "    \"cdCat02\": \"04\",  # 二人以上の世帯のうち勤労者世帯（2000年～）で絞る\n",
    "    \"cdCat03\": \"208\",  # 世帯主の年齢階級を40～44歳で絞る\n",
    "    \"cdTime\": \"2024000000\",  # 時間軸を2024で絞る\n",
    "}\n",
    "annual_data = get_statsdata(appId, annual_statsDataId, params=annual_params)\n",
    "annual_value = colname_to_japanese(cleansing_statsdata(annual_data))"
   ]
  },
  {
   "cell_type": "code",
   "execution_count": null,
   "id": "cbc11ca5-0516-43d9-b7d6-bceeb50a3b08",
   "metadata": {},
   "outputs": [],
   "source": [
    "annual_value.columns"
   ]
  },
  {
   "cell_type": "code",
   "execution_count": null,
   "id": "26693573-f383-484e-bdd2-bb1af6b748a3",
   "metadata": {},
   "outputs": [],
   "source": [
    "cond = annual_value[\"単位\"] == \"円\"\n",
    "cond &= annual_value['用途分類階層レベル'].astype(int) <= 4\n",
    "# 可処分所得233、黒字234を除外\n",
    "cond &= ~annual_value[\"用途分類コード\"].isin([\"233\", \"234\"])\n",
    "cond &= ~annual_value[\"用途分類\"].str.contains(\"再掲\")\n",
    "cols = [\"用途分類コード\", \"用途分類\", '用途分類階層レベル', \"値\"]\n",
    "annual_df = annual_value.loc[cond, cols]\n",
    "annual_df.head()"
   ]
  },
  {
   "cell_type": "markdown",
   "id": "737a84fc-b53e-4fbf-b289-29ba89abf83b",
   "metadata": {},
   "source": [
    "## サンキーダイアグラム描画"
   ]
  },
  {
   "cell_type": "code",
   "execution_count": null,
   "id": "ccbc7000-50d8-48b8-9e14-3e4dc9069ba9",
   "metadata": {},
   "outputs": [],
   "source": [
    "def create_code_mappings(annual_metadata):\n",
    "    \"\"\"\n",
    "    メタデータからコードマッピング辞書を作成\n",
    "    \n",
    "    Parameters\n",
    "    ----------\n",
    "    annual_metadata : dict\n",
    "        メタデータ辞書\n",
    "    \n",
    "    Returns\n",
    "    -------\n",
    "    code_to_name : dict\n",
    "        コード->名前のマッピング辞書\n",
    "    code_to_parent : dict\n",
    "        コード->親コードのマッピング辞書\n",
    "    name_to_code : dict\n",
    "        名前->コードのマッピング辞書\n",
    "    \"\"\"\n",
    "    class_list = annual_metadata['CLASS_INF']['CLASS_OBJ'][1]['CLASS']\n",
    "    \n",
    "    code_to_name = {}\n",
    "    code_to_parent = {}\n",
    "    \n",
    "    for item in class_list:\n",
    "        if item.get('@unit') == '円':\n",
    "            code = item['@code']\n",
    "            name = item['@name']\n",
    "            code_to_name[code] = name\n",
    "            parent = item.get('@parentCode')\n",
    "            if parent and parent != '':\n",
    "                code_to_parent[code] = parent\n",
    "    \n",
    "    # 逆マッピングを作成\n",
    "    name_to_code = {name: code for code, name in code_to_name.items()}\n",
    "    \n",
    "    return code_to_name, code_to_parent, name_to_code"
   ]
  },
  {
   "cell_type": "code",
   "execution_count": null,
   "id": "b7466df8-3d48-4dcf-9249-52ffbdc1e9ed",
   "metadata": {},
   "outputs": [],
   "source": [
    "code_to_name, code_to_parent, name_to_code = create_code_mappings(annual_metadata)"
   ]
  },
  {
   "cell_type": "code",
   "execution_count": null,
   "id": "fa62d388-b0bb-495c-ac7b-e5c6ff1739e9",
   "metadata": {
    "scrolled": true
   },
   "outputs": [],
   "source": [
    "[item for item in code_to_name.items()][:5]"
   ]
  },
  {
   "cell_type": "code",
   "execution_count": null,
   "id": "ec55335c-2a5d-4399-9371-e66deaf8e12a",
   "metadata": {},
   "outputs": [],
   "source": [
    "def get_root_parent(code, code_to_parent):\n",
    "    \"\"\"\n",
    "    コードのルート親を取得（018または057）\n",
    "    \n",
    "    Parameters\n",
    "    ----------\n",
    "    code : str\n",
    "        対象コード\n",
    "    code_to_parent : dict\n",
    "        親コードのマッピング辞書\n",
    "    \n",
    "    Returns\n",
    "    -------\n",
    "    str or None\n",
    "        ルート親コード（'018'または'057'）。見つからない場合はNone\n",
    "    \"\"\"\n",
    "    current = code\n",
    "    visited = set()  # 無限ループ防止\n",
    "    while current in code_to_parent:\n",
    "        if current in visited:\n",
    "            break\n",
    "        visited.add(current)\n",
    "        parent = code_to_parent[current]\n",
    "        if parent in ['018', '057']:\n",
    "            return parent\n",
    "        current = parent\n",
    "    return None"
   ]
  },
  {
   "cell_type": "code",
   "execution_count": null,
   "id": "c47755e7-3e46-4bf8-b4b4-9ead15a6d35a",
   "metadata": {},
   "outputs": [],
   "source": [
    "get_root_parent('026', code_to_parent)"
   ]
  },
  {
   "cell_type": "code",
   "execution_count": null,
   "id": "3beea4af-ac8b-4c5a-88ef-c2c1b38a6076",
   "metadata": {},
   "outputs": [],
   "source": [
    "def create_sankey_links(annual_df, code_to_name, code_to_parent, code_to_value):\n",
    "    \"\"\"\n",
    "    サンキーダイアグラム用のリンクデータを作成\n",
    "    \n",
    "    Parameters\n",
    "    ----------\n",
    "    annual_df : pd.DataFrame\n",
    "        年次データのDataFrame\n",
    "    code_to_name : dict\n",
    "        コード->名前のマッピング辞書\n",
    "    code_to_parent : dict\n",
    "        コード->親コードのマッピング辞書\n",
    "    code_to_value : dict\n",
    "        コード->値のマッピング辞書\n",
    "    \n",
    "    Returns\n",
    "    -------\n",
    "    pd.DataFrame\n",
    "        リンク情報を含むDataFrame（source, target, value, source_code, target_codeカラム）\n",
    "    \"\"\"\n",
    "    links = []\n",
    "    \n",
    "    # 各コードについて親との関係を作成\n",
    "    for code in annual_df['用途分類コード']:\n",
    "        code_str = str(code)\n",
    "        if code_str in code_to_parent and code_str not in ['018', '057']:\n",
    "            parent_code = code_to_parent[code_str]\n",
    "            value = code_to_value.get(code, 0)\n",
    "            \n",
    "            if value > 0:\n",
    "                child_name = code_to_name.get(code, str(code))\n",
    "                parent_name = code_to_name.get(parent_code, str(parent_code))\n",
    "                \n",
    "                root = get_root_parent(code_str, code_to_parent)\n",
    "                \n",
    "                if root == '018':\n",
    "                    # 受取側: child -> parent\n",
    "                    links.append({\n",
    "                        'source': child_name,\n",
    "                        'target': parent_name,\n",
    "                        'value': value,\n",
    "                        'source_code': code,\n",
    "                        'target_code': parent_code\n",
    "                    })\n",
    "                elif root == '057':\n",
    "                    # 支払側: parent -> child\n",
    "                    links.append({\n",
    "                        'source': parent_name,\n",
    "                        'target': child_name,\n",
    "                        'value': value,\n",
    "                        'source_code': parent_code,\n",
    "                        'target_code': code\n",
    "                    })\n",
    "    \n",
    "    # 受取から支払への接続（中央）\n",
    "    receive_value = code_to_value.get('018', 0)\n",
    "    if receive_value > 0:\n",
    "        receive_name = code_to_name.get('018', '受取')\n",
    "        payment_name = code_to_name.get('057', '支払')\n",
    "        \n",
    "        links.append({\n",
    "            'source': receive_name,\n",
    "            'target': payment_name,\n",
    "            'value': receive_value,\n",
    "            'source_code': '018',\n",
    "            'target_code': '057'\n",
    "        })\n",
    "    \n",
    "    return pd.DataFrame(links)"
   ]
  },
  {
   "cell_type": "code",
   "execution_count": null,
   "id": "fa601629-0ca7-47fb-8cc8-8d8e4c85e366",
   "metadata": {},
   "outputs": [],
   "source": [
    "code_to_value = dict(zip(annual_df['用途分類コード'], annual_df['値']))\n",
    "[item for item in code_to_value.items()][:5]"
   ]
  },
  {
   "cell_type": "code",
   "execution_count": null,
   "id": "994f2f61-bd7a-49ad-ac0b-7ec8b8cc2c6b",
   "metadata": {},
   "outputs": [],
   "source": [
    "sankey_df = create_sankey_links(annual_df, code_to_name, code_to_parent, code_to_value)\n",
    "sankey_df.head()"
   ]
  },
  {
   "cell_type": "code",
   "execution_count": null,
   "id": "5245910f-ab02-4bd2-acb9-3428c45a9f3d",
   "metadata": {},
   "outputs": [],
   "source": [
    "def assign_node_colors(all_nodes, name_to_code, code_to_parent):\n",
    "    \"\"\"\n",
    "    サンキーダイアグラムのノード色を設定\n",
    "    \n",
    "    Parameters\n",
    "    ----------\n",
    "    all_nodes : list\n",
    "        全ノードのリスト\n",
    "    name_to_code : dict\n",
    "        ノード名->コードのマッピング辞書\n",
    "    code_to_parent : dict\n",
    "        コード->親コードのマッピング辞書\n",
    "    \n",
    "    Returns\n",
    "    -------\n",
    "    list\n",
    "        ノードごとの色のリスト（RGBA形式の文字列）\n",
    "    \"\"\"\n",
    "    node_colors = []\n",
    "    for node in all_nodes:\n",
    "        code = name_to_code.get(node)\n",
    "        \n",
    "        if code == '018':\n",
    "            node_colors.append('rgba(100, 150, 250, 0.9)')  # 受取（濃い青）\n",
    "        elif code == '057':\n",
    "            node_colors.append('rgba(250, 100, 100, 0.9)')  # 支払（濃い赤）\n",
    "        else:\n",
    "            root = get_root_parent(code, code_to_parent)\n",
    "            if root == '018':\n",
    "                node_colors.append('rgba(135, 206, 250, 0.7)')  # 受取側（水色）\n",
    "            elif root == '057':\n",
    "                node_colors.append('rgba(255, 160, 122, 0.7)')  # 支払側（サーモン）\n",
    "            else:\n",
    "                node_colors.append('rgba(200, 200, 200, 0.7)')\n",
    "    \n",
    "    return node_colors"
   ]
  },
  {
   "cell_type": "code",
   "execution_count": null,
   "id": "a36f3775-b1f0-46e9-9c95-8be35a2e55ff",
   "metadata": {},
   "outputs": [],
   "source": [
    "all_nodes = list(set(sankey_df['source'].tolist() + sankey_df['target'].tolist()))\n",
    "all_nodes[:5]"
   ]
  },
  {
   "cell_type": "code",
   "execution_count": null,
   "id": "fd33f583-4299-4148-95ce-928505c52d68",
   "metadata": {},
   "outputs": [],
   "source": [
    "node_colors = assign_node_colors(all_nodes, node_to_code, code_to_parent)\n",
    "node_colors[:5]"
   ]
  },
  {
   "cell_type": "code",
   "execution_count": null,
   "id": "afd7829c-16a9-4fc6-9e32-70a610e1c275",
   "metadata": {},
   "outputs": [],
   "source": [
    "def create_plotly_sankey_figure(sankey_df, node_colors, title=None, \n",
    "                                source_name=None, source_org=None, source_url=None,\n",
    "                                annotation_x=0.5, annotation_y=1.0,\n",
    "                                xanchor=\"center\", yanchor=\"top\",\n",
    "                                annotation_font_size=12, annotation_font_color=\"gray\"):\n",
    "    \"\"\"\n",
    "    Plotlyサンキーダイアグラムを作成\n",
    "    \n",
    "    Parameters\n",
    "    ----------\n",
    "    sankey_df : pd.DataFrame\n",
    "        リンク情報を含むDataFrame（source, target, valueカラムを含む）\n",
    "    node_colors : list\n",
    "        ノードごとの色のリスト\n",
    "    title : str, optional\n",
    "        グラフのタイトル\n",
    "    source_name : str, optional\n",
    "        データソース名（例: \"家計調査結果\"）\n",
    "    source_org : str, optional\n",
    "        データソース提供組織（例: \"総務省統計局\"）\n",
    "    source_url : str, optional\n",
    "        データソースURL（例: \"http://www.stat.go.jp/data/kakei/index.htm\"）\n",
    "    annotation_x : float, optional\n",
    "        アノテーションのx位置\n",
    "    annotation_y : float, optional\n",
    "        アノテーションのy位置\n",
    "    annotation_font_size : int, optional\n",
    "        アノテーションのフォントサイズ\n",
    "    annotation_font_color : str, optional\n",
    "        アノテーションのフォントカラー（デフォルト: \"gray\"）\n",
    "    \n",
    "    Returns\n",
    "    -------\n",
    "    go.Figure\n",
    "        Plotlyのサンキーダイアグラム\n",
    "    \"\"\"\n",
    "    # ノードのリストを作成\n",
    "    all_nodes = list(set(sankey_df['source'].tolist() + sankey_df['target'].tolist()))\n",
    "    node_to_idx = {node: idx for idx, node in enumerate(all_nodes)}\n",
    "    \n",
    "    # インデックスに変換\n",
    "    source_idx = sankey_df['source'].map(node_to_idx).tolist()\n",
    "    target_idx = sankey_df['target'].map(node_to_idx).tolist()\n",
    "    values = sankey_df['value'].tolist()\n",
    "    \n",
    "    # サンキーダイアグラムの作成\n",
    "    fig = go.Figure(data=[go.Sankey(\n",
    "        node=dict(\n",
    "            pad=20,\n",
    "            thickness=15,\n",
    "            line=dict(color=\"white\", width=1),\n",
    "            label=all_nodes,\n",
    "            color=node_colors,\n",
    "            hovertemplate='%{label}<br>値: %{value:,.0f}円<extra></extra>'\n",
    "        ),\n",
    "        link=dict(\n",
    "            source=source_idx,\n",
    "            target=target_idx,\n",
    "            value=values,\n",
    "            color='rgba(200, 200, 200, 0.3)',\n",
    "            hovertemplate='%{source.label} -> %{target.label}<br>金額: %{value:,.0f}円<extra></extra>'\n",
    "        )\n",
    "    )])\n",
    "    \n",
    "    fig.update_layout(\n",
    "        title=dict(\n",
    "            text=title,\n",
    "            font=dict(size=16)\n",
    "        ),\n",
    "        font_size=10,\n",
    "        height=900,\n",
    "        width=1400,\n",
    "        plot_bgcolor='white',\n",
    "        paper_bgcolor='white'\n",
    "    )\n",
    "    \n",
    "    # 出典情報を生成してアノテーションを追加\n",
    "    if source_name and source_org and source_url:\n",
    "        today = datetime.date.today()\n",
    "        date_str = f\"{today.year}年{today.month}月{today.day}日\"\n",
    "        annotation_text = f\"＊「{source_name}」（{source_org}）（{source_url}）（{date_str}に利用）\"\n",
    "        \n",
    "        fig.add_annotation(\n",
    "            text=annotation_text,\n",
    "            xref=\"paper\",\n",
    "            yref=\"paper\",\n",
    "            x=annotation_x, \n",
    "            y=annotation_y, \n",
    "            xanchor=xanchor,\n",
    "            yanchor=yanchor,\n",
    "            showarrow=False,\n",
    "            font={\"size\": annotation_font_size, \"color\": annotation_font_color}\n",
    "        )\n",
    "    \n",
    "    return fig"
   ]
  },
  {
   "cell_type": "code",
   "execution_count": null,
   "id": "cd82d1a9-abea-49cc-a2eb-1be3eb94bcbb",
   "metadata": {},
   "outputs": [],
   "source": [
    "title = \"家計調査 二人以上の世帯のうち勤労者世帯（2000年～）・2024年・世帯主の年齢階級を40～44歳：受取・支払サンキーダイアグラム\"\n",
    "source_name=\"家計調査結果\"\n",
    "source_org=\"総務省統計局\"\n",
    "source_url=\"http://www.stat.go.jp/data/kakei/index.htm\""
   ]
  },
  {
   "cell_type": "code",
   "execution_count": null,
   "id": "3b2886db-49ba-4b82-8d85-e09e2080787e",
   "metadata": {},
   "outputs": [],
   "source": [
    "def create_sankey_diagram(annual_df, annual_metadata, title=None, \n",
    "                         source_name=None, source_org=None, source_url=None,\n",
    "                         annotation_x=0.5, annotation_y=1.0,\n",
    "                         xanchor=\"center\", yanchor=\"top\",\n",
    "                         annotation_font_size=12, annotation_font_color=\"gray\"):\n",
    "    \"\"\"\n",
    "    家計調査データからサンキーダイアグラムを作成\n",
    "    \n",
    "    受取側: level4 -> level3 -> level2 -> level1 -> 受取(018)\n",
    "    中央: 受取(018) -> 支払(057)\n",
    "    支払側: 支払(057) -> level1 -> level2 -> level3 -> level4\n",
    "    \n",
    "    Parameters\n",
    "    ----------\n",
    "    annual_df : pd.DataFrame\n",
    "        年次データのDataFrame\n",
    "    annual_metadata : dict\n",
    "        メタデータ辞書\n",
    "    title : str, optional\n",
    "        グラフのタイトル\n",
    "    source_name : str, optional\n",
    "        データソース名（例: \"家計調査結果\"）\n",
    "    source_org : str, optional\n",
    "        データソース提供組織（例: \"総務省統計局\"）\n",
    "    source_url : str, optional\n",
    "        データソースURL（例: \"http://www.stat.go.jp/data/kakei/index.htm\"）\n",
    "    annotation_x : float, optional\n",
    "        アノテーションのx位置\n",
    "    annotation_y : float, optional\n",
    "        アノテーションのy位置\n",
    "    annotation_font_size : int, optional\n",
    "        アノテーションのフォントサイズ\n",
    "    annotation_font_color : str, optional\n",
    "        アノテーションのフォントカラー（デフォルト: \"gray\"）\n",
    "    \n",
    "    Returns\n",
    "    -------\n",
    "    fig : go.Figure\n",
    "        Plotlyのサンキーダイアグラム\n",
    "    sankey_df : pd.DataFrame\n",
    "        リンク情報を含むDataFrame\n",
    "    \"\"\"\n",
    "    # 1. コードマッピングの作成\n",
    "    code_to_name, code_to_parent, name_to_code = create_code_mappings(annual_metadata)\n",
    "    \n",
    "    # 2. DataFrameから値とレベルのマッピング\n",
    "    code_to_value = dict(zip(annual_df['用途分類コード'], annual_df['値']))\n",
    "    \n",
    "    # 3. リンクデータの作成\n",
    "    sankey_df = create_sankey_links(annual_df, code_to_name, code_to_parent, code_to_value)\n",
    "    \n",
    "    # 4. ノードリストの作成\n",
    "    all_nodes = list(set(sankey_df['source'].tolist() + sankey_df['target'].tolist()))\n",
    "    \n",
    "    # 5. ノード色の設定\n",
    "    node_colors = assign_node_colors(all_nodes, name_to_code, code_to_parent)\n",
    "    \n",
    "    # 6. グラフの作成\n",
    "    fig = create_plotly_sankey_figure(\n",
    "        sankey_df, \n",
    "        node_colors, \n",
    "        title,\n",
    "        source_name,\n",
    "        source_org,\n",
    "        source_url,\n",
    "        annotation_x,\n",
    "        annotation_y,\n",
    "        xanchor,\n",
    "        yanchor,\n",
    "        annotation_font_size,\n",
    "        annotation_font_color\n",
    "    )\n",
    "    \n",
    "    return fig, sankey_df"
   ]
  },
  {
   "cell_type": "code",
   "execution_count": null,
   "id": "8ecb5d2b-6e3c-442d-aa32-c9a32bc74b02",
   "metadata": {},
   "outputs": [],
   "source": [
    "fig, sankey_df = create_sankey_diagram(annual_df, annual_metadata,\n",
    "    title=title,\n",
    "    source_name=source_name,\n",
    "    source_org=source_org,\n",
    "    source_url=source_url,\n",
    "    annotation_x=0.5,\n",
    "    annotation_y=1.05,\n",
    "    annotation_font_size=14,\n",
    ")\n",
    "fig.show()"
   ]
  },
  {
   "cell_type": "code",
   "execution_count": null,
   "id": "db704172-24b6-49fe-8e14-dc5587f2e18c",
   "metadata": {},
   "outputs": [],
   "source": [
    "fig.write_html(\"kakei_sankey.html\")"
   ]
  },
  {
   "cell_type": "code",
   "execution_count": null,
   "id": "244f7f31-97e6-492f-927c-591ac222495f",
   "metadata": {},
   "outputs": [],
   "source": [
    "# データの確認と検証\n",
    "print(f\"\\n作成されたリンク数: {len(sankey_df)}\")\n",
    "print(f\"ノード数: {len(set(sankey_df['source'].tolist() + sankey_df['target'].tolist()))}\")\n",
    "\n",
    "# 受取と支払の合計が一致するか確認\n",
    "receive_total = sankey_df[sankey_df['target'] == '018_受取']['value'].sum()\n",
    "payment_total = sankey_df[sankey_df['source'] == '057_支払']['value'].sum()\n",
    "center_flow = sankey_df[(sankey_df['source'] == '018_受取') & (sankey_df['target'] == '057_支払')]['value'].sum()\n",
    "\n",
    "print(f\"\\n受取への流入合計: {receive_total:,.0f}円\")\n",
    "print(f\"支払からの流出合計: {payment_total:,.0f}円\")\n",
    "print(f\"中央の流れ（受取 -> 支払）: {center_flow:,.0f}円\")\n",
    "print(f\"バランスチェック: {'OK' if abs(receive_total - payment_total) < 1 else 'NG'}\")\n",
    "\n",
    "print(\"\\nサンキーダイアグラム用データ（サンプル）:\")\n",
    "print(sankey_df[['source', 'target', 'value']].head(20))"
   ]
  },
  {
   "cell_type": "code",
   "execution_count": null,
   "id": "15c34f57-84a4-45e7-8579-4b34616a07da",
   "metadata": {},
   "outputs": [],
   "source": []
  }
 ],
 "metadata": {
  "kernelspec": {
   "display_name": "Python 3 (ipykernel)",
   "language": "python",
   "name": "python3"
  },
  "language_info": {
   "codemirror_mode": {
    "name": "ipython",
    "version": 3
   },
   "file_extension": ".py",
   "mimetype": "text/x-python",
   "name": "python",
   "nbconvert_exporter": "python",
   "pygments_lexer": "ipython3",
   "version": "3.12.10"
  }
 },
 "nbformat": 4,
 "nbformat_minor": 5
}
